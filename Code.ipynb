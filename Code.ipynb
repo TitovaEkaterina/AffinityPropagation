{
 "cells": [
  {
   "cell_type": "code",
   "execution_count": 1,
   "metadata": {},
   "outputs": [
    {
     "name": "stdout",
     "output_type": "stream",
     "text": [
      "196591\n"
     ]
    }
   ],
   "source": [
    "import csv\n",
    "import matplotlib.pyplot as plt\n",
    "import numpy as np\n",
    "\n",
    "\n",
    "f = open('/home/boyko_mihail/NetBeansProjects/course_Ml/Titova/AfinityPropogeyion_Titova/Results_Hist.csv', 'r')\n",
    "a = f.readline()\n",
    "data = []\n",
    " \n",
    "for numb in a[:-1].split(','):\n",
    "    if numb != \"\" and numb != \" \":\n",
    "        data.append(int(numb))\n",
    "    \n",
    "print(len(data))"
   ]
  },
  {
   "cell_type": "code",
   "execution_count": 2,
   "metadata": {},
   "outputs": [],
   "source": [
    "import operator\n",
    "\n",
    "lennn = {}\n",
    "for i in data:\n",
    "    if (data.count(i) != 0):\n",
    "        if data.count(i) in lennn:\n",
    "            lennn[data.count(i)]+=1\n",
    "        else:\n",
    "            lennn[data.count(i)] = 1\n",
    "\n",
    "# sorted_x = sorted(lennn.items(), key=operator.itemgetter(1))"
   ]
  },
  {
   "cell_type": "code",
   "execution_count": null,
   "metadata": {},
   "outputs": [],
   "source": [
    "sorted_lenn = sorted(lennn.items(), key = \n",
    "             lambda kv:(kv[1], kv[0]))\n",
    "print(type(sorted_lenn[0]))\n"
   ]
  },
  {
   "cell_type": "code",
   "execution_count": null,
   "metadata": {},
   "outputs": [],
   "source": []
  },
  {
   "cell_type": "code",
   "execution_count": 27,
   "metadata": {},
   "outputs": [],
   "source": [
    "def split_list(a_list):\n",
    "    half = 310\n",
    "    small_list = []\n",
    "    big_list = []\n",
    "    i = 0\n",
    "    for k in a_list:\n",
    "        if k > half:\n",
    "            small_list.append(k)\n",
    "        else:\n",
    "            big_list.append(k)\n",
    "        i+=1\n",
    "        \n",
    "    return small_list, big_list\n",
    "\n",
    "\n",
    "smallData, BigData = split_list(lennn)"
   ]
  },
  {
   "cell_type": "code",
   "execution_count": null,
   "metadata": {},
   "outputs": [],
   "source": [
    "print(BigData)"
   ]
  },
  {
   "cell_type": "code",
   "execution_count": null,
   "metadata": {},
   "outputs": [],
   "source": [
    "print(smallData)"
   ]
  },
  {
   "cell_type": "code",
   "execution_count": null,
   "metadata": {},
   "outputs": [],
   "source": [
    "print(data.count(0))\n",
    "print(smallData.count(0))\n",
    "print(BigData.count(0))"
   ]
  },
  {
   "cell_type": "code",
   "execution_count": null,
   "metadata": {},
   "outputs": [],
   "source": [
    "print(lennn)"
   ]
  },
  {
   "cell_type": "code",
   "execution_count": 28,
   "metadata": {},
   "outputs": [
    {
     "name": "stdout",
     "output_type": "stream",
     "text": [
      "[1544, 599, 5745, 2075, 676, 1255, 1586, 522, 331, 332, 351, 389, 415, 458, 1006]\n"
     ]
    },
    {
     "data": {
      "image/png": "[encoded data removed]",
      "text/plain": [
       "<Figure size 432x288 with 1 Axes>"
      ]
     },
     "metadata": {
      "needs_background": "light"
     },
     "output_type": "display_data"
    }
   ],
   "source": [
    "X = []\n",
    "\n",
    "for i in smallData:\n",
    "    X.append(i)\n",
    "print(X)\n",
    "n, bins, patches = plt.hist(x=X, bins=30, color='C1')\n",
    "plt.show()"
   ]
  },
  {
   "cell_type": "code",
   "execution_count": 33,
   "metadata": {},
   "outputs": [
    {
     "name": "stdout",
     "output_type": "stream",
     "text": [
      "[1, 2, 3, 4, 5, 6, 7, 8, 9, 10, 11, 12, 13, 14, 15, 16, 17, 18, 19, 20, 21, 22, 23, 24, 25, 26, 27, 28, 29, 30, 31, 32, 33, 34, 35, 36, 37, 38, 39, 40, 41, 42, 43, 44, 45, 46, 47, 48, 50, 51, 52, 53, 54, 55, 56, 58, 59, 60, 61, 63, 64, 65, 66, 67, 68, 69, 70, 71, 72, 74, 75, 76, 78, 81, 82, 83, 84, 86, 88, 89, 90, 91, 92, 94, 99, 100, 101, 102, 105, 107, 108, 110, 111, 112, 115, 117, 121, 122, 123, 126, 127, 129, 130, 139, 140, 141, 142, 144, 149, 151, 152, 154, 156, 157, 182, 189, 196, 201, 204, 205, 206, 208, 212, 224, 229, 233, 260, 275, 87, 49]\n"
     ]
    },
    {
     "data": {
      "image/png": "[encoded data removed]",
      "text/plain": [
       "<Figure size 432x288 with 1 Axes>"
      ]
     },
     "metadata": {
      "needs_background": "light"
     },
     "output_type": "display_data"
    }
   ],
   "source": [
    "X = []\n",
    "\n",
    "for i in range(len(BigData)):\n",
    "    X.append(BigData[i])\n",
    "print(X)\n",
    "n, bins, patches = plt.hist(x=X, bins=30, color='C1')\n",
    "plt.show()"
   ]
  },
  {
   "cell_type": "code",
   "execution_count": null,
   "metadata": {},
   "outputs": [],
   "source": []
  }
 ],
 "metadata": {
  "kernelspec": {
   "display_name": "Python 2",
   "language": "python",
   "name": "python2"
  },
  "language_info": {
   "codemirror_mode": {
    "name": "ipython",
    "version": 2
   },
   "file_extension": ".py",
   "mimetype": "text/x-python",
   "name": "python",
   "nbconvert_exporter": "python",
   "pygments_lexer": "ipython2",
   "version": "2.7.15"
  }
 },
 "nbformat": 4,
 "nbformat_minor": 2
}
